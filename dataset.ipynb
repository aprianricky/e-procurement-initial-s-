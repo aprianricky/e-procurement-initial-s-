{
 "cells": [
  {
   "cell_type": "code",
   "execution_count": 1,
   "metadata": {},
   "outputs": [],
   "source": [
    "import pandas as pd"
   ]
  },
  {
   "cell_type": "code",
   "execution_count": 2,
   "metadata": {},
   "outputs": [],
   "source": [
    "data = pd.read_csv('data-jumlah-wajib-pajak-pbbkb-tahun-2016.csv')"
   ]
  },
  {
   "cell_type": "code",
   "execution_count": 3,
   "metadata": {},
   "outputs": [
    {
     "name": "stdout",
     "output_type": "stream",
     "text": [
      "Shape: (5, 4)\n"
     ]
    }
   ],
   "source": [
    "print(\"Shape:\", data.shape)"
   ]
  },
  {
   "cell_type": "code",
   "execution_count": 4,
   "metadata": {},
   "outputs": [
    {
     "name": "stdout",
     "output_type": "stream",
     "text": [
      "/nFeatures: Index(['tahun', 'wilayah', 'jenis_pajak', 'jumlah_wajib_pajak'], dtype='object')\n"
     ]
    }
   ],
   "source": [
    "print(\"/nFeatures:\", data.columns)"
   ]
  },
  {
   "cell_type": "code",
   "execution_count": 5,
   "metadata": {},
   "outputs": [],
   "source": [
    "x = data[data.columns[:-1]]\n",
    "y = data[data.columns[-1]]"
   ]
  },
  {
   "cell_type": "code",
   "execution_count": 11,
   "metadata": {},
   "outputs": [
    {
     "name": "stdout",
     "output_type": "stream",
     "text": [
      "nFeature matrix:\n",
      "    tahun          wilayah jenis_pajak\n",
      "0   2016    Jakarta Barat       PBBKB\n",
      "1   2016    Jakarta Pusat       PBBKB\n",
      "2   2016  Jakarta Selatan       PBBKB\n",
      "3   2016    Jakarta Timur       PBBKB\n",
      "4   2016    Jakarta Utara       PBBKB\n",
      "nResponse vector:\n",
      " 0     9\n",
      "1     9\n",
      "2    24\n",
      "3     2\n",
      "4    14\n",
      "Name: jumlah_wajib_pajak, dtype: int64\n"
     ]
    }
   ],
   "source": [
    "print(\"nFeature matrix:\\n\", x.head())\n",
    "print(\"nResponse vector:\\n\", y.head())"
   ]
  }
 ],
 "metadata": {
  "interpreter": {
   "hash": "534f3915bd2bd12bd63476915380f007aeb245ace04ea1b92519881ddb8994b8"
  },
  "kernelspec": {
   "display_name": "Python 3.8.3 64-bit",
   "language": "python",
   "name": "python3"
  },
  "language_info": {
   "codemirror_mode": {
    "name": "ipython",
    "version": 3
   },
   "file_extension": ".py",
   "mimetype": "text/x-python",
   "name": "python",
   "nbconvert_exporter": "python",
   "pygments_lexer": "ipython3",
   "version": "3.8.3"
  },
  "orig_nbformat": 4
 },
 "nbformat": 4,
 "nbformat_minor": 2
}
